{
 "cells": [
  {
   "cell_type": "raw",
   "id": "c250d123-14b3-4caa-bfa8-b5be705ff0f8",
   "metadata": {},
   "source": [
    "Inicie\n",
    "    Exiba \"Bem-vindo a Calculadora simples\"\n",
    "    Peça ao usuário o primeiro número\n",
    "    Armazene o primeiro número \n",
    "    Peça ao usuário o segundo número\n",
    "    Armazene o segundo número\n",
    "    Pergunte ao usuário qual operação ele que usar (+, -, *, /)\n",
    "    Armazene a operação\n",
    "    Faça o cálculo com as informações armazenadas\n",
    "    Exiba o resultado\n",
    "FIm"
   ]
  },
  {
   "cell_type": "code",
   "execution_count": 9,
   "id": "8abe065d-a97f-4938-88a3-c4137b1d369a",
   "metadata": {},
   "outputs": [
    {
     "name": "stdout",
     "output_type": "stream",
     "text": [
      "Bem-vindo a Calculadora Simples\n"
     ]
    }
   ],
   "source": [
    "print('Bem-vindo a Calculadora Simples')"
   ]
  },
  {
   "cell_type": "code",
   "execution_count": 17,
   "id": "0bb76b53-542e-4fa1-b14d-e8a0050ac573",
   "metadata": {},
   "outputs": [
    {
     "name": "stdin",
     "output_type": "stream",
     "text": [
      "Qual é o seu primeiro número? 4\n"
     ]
    }
   ],
   "source": [
    "num1 = float(input('Qual é o seu primeiro número?'))"
   ]
  },
  {
   "cell_type": "code",
   "execution_count": 18,
   "id": "3b7ab13b-0f34-4d2c-ae09-d28095263230",
   "metadata": {},
   "outputs": [
    {
     "name": "stdin",
     "output_type": "stream",
     "text": [
      "Qual é o seu segundo número? 4\n"
     ]
    }
   ],
   "source": [
    "num2 = float(input('Qual é o seu segundo número?'))"
   ]
  },
  {
   "cell_type": "code",
   "execution_count": 19,
   "id": "8d290b94-0733-4840-9c7e-592ce483c077",
   "metadata": {},
   "outputs": [
    {
     "name": "stdin",
     "output_type": "stream",
     "text": [
      "Qual operação deseja utilizar? (+, -, *, /) *\n"
     ]
    }
   ],
   "source": [
    "operacao = input('Qual operação deseja utilizar? (+, -, *, /)')"
   ]
  },
  {
   "cell_type": "code",
   "execution_count": 20,
   "id": "36489585-5b8d-4991-9ecd-c5d33f95b7a6",
   "metadata": {},
   "outputs": [
    {
     "name": "stdout",
     "output_type": "stream",
     "text": [
      "Seu resultado é 16.0\n"
     ]
    }
   ],
   "source": [
    "if operacao == '+':\n",
    "    resultado = num1 + num2\n",
    "    print('Seu resultado é', resultado)\n",
    "    \n",
    "elif operacao == '-':\n",
    "    resultado = num1 - num2\n",
    "    print('Seu resultado é', resultado)\n",
    "    \n",
    "elif operacao == '*' :\n",
    "    resultado = num1 * num2\n",
    "    print('Seu resultado é', resultado)\n",
    "    \n",
    "elif operacao == '/':\n",
    "    resultado = num1 / num2\n",
    "    print('Seu resultado é', resultado)\n",
    "\n",
    "else:\n",
    "    print('Operação Inválida')"
   ]
  },
  {
   "cell_type": "code",
   "execution_count": null,
   "id": "b8c27bfe-b452-494b-8f7f-fa1bf6a9946a",
   "metadata": {},
   "outputs": [],
   "source": []
  }
 ],
 "metadata": {
  "kernelspec": {
   "display_name": "Python [conda env:base] *",
   "language": "python",
   "name": "conda-base-py"
  },
  "language_info": {
   "codemirror_mode": {
    "name": "ipython",
    "version": 3
   },
   "file_extension": ".py",
   "mimetype": "text/x-python",
   "name": "python",
   "nbconvert_exporter": "python",
   "pygments_lexer": "ipython3",
   "version": "3.12.7"
  }
 },
 "nbformat": 4,
 "nbformat_minor": 5
}
